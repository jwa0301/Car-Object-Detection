{
  "cells": [
    {
      "cell_type": "markdown",
      "metadata": {
        "id": "view-in-github",
        "colab_type": "text"
      },
      "source": [
        "<a href=\"https://colab.research.google.com/github/jwa0301/Car-Object-Detection/blob/main/yolo8_%EC%BD%94%EB%93%9C_%EC%B5%9C%EC%A2%85%EB%B3%B8.ipynb\" target=\"_parent\"><img src=\"https://colab.research.google.com/assets/colab-badge.svg\" alt=\"Open In Colab\"/></a>"
      ]
    },
    {
      "cell_type": "code",
      "execution_count": null,
      "metadata": {
        "colab": {
          "base_uri": "https://localhost:8080/"
        },
        "id": "UxJuDd3xC1gj",
        "outputId": "4b47da5b-7605-4cb2-ce92-842bfe466ba6"
      },
      "outputs": [
        {
          "output_type": "stream",
          "name": "stdout",
          "text": [
            "Looking in indexes: https://pypi.org/simple, https://us-python.pkg.dev/colab-wheels/public/simple/\n",
            "Collecting ultralytics\n",
            "  Downloading ultralytics-8.0.118-py3-none-any.whl (599 kB)\n",
            "\u001b[2K     \u001b[90m━━━━━━━━━━━━━━━━━━━━━━━━━━━━━━━━━━━━━━━\u001b[0m \u001b[32m599.6/599.6 kB\u001b[0m \u001b[31m9.4 MB/s\u001b[0m eta \u001b[36m0:00:00\u001b[0m\n",
            "\u001b[?25hRequirement already satisfied: matplotlib>=3.2.2 in /usr/local/lib/python3.10/dist-packages (from ultralytics) (3.7.1)\n",
            "Requirement already satisfied: opencv-python>=4.6.0 in /usr/local/lib/python3.10/dist-packages (from ultralytics) (4.7.0.72)\n",
            "Requirement already satisfied: Pillow>=7.1.2 in /usr/local/lib/python3.10/dist-packages (from ultralytics) (8.4.0)\n",
            "Requirement already satisfied: PyYAML>=5.3.1 in /usr/local/lib/python3.10/dist-packages (from ultralytics) (6.0)\n",
            "Requirement already satisfied: requests>=2.23.0 in /usr/local/lib/python3.10/dist-packages (from ultralytics) (2.27.1)\n",
            "Requirement already satisfied: scipy>=1.4.1 in /usr/local/lib/python3.10/dist-packages (from ultralytics) (1.10.1)\n",
            "Requirement already satisfied: torch>=1.7.0 in /usr/local/lib/python3.10/dist-packages (from ultralytics) (2.0.1+cu118)\n",
            "Requirement already satisfied: torchvision>=0.8.1 in /usr/local/lib/python3.10/dist-packages (from ultralytics) (0.15.2+cu118)\n",
            "Requirement already satisfied: tqdm>=4.64.0 in /usr/local/lib/python3.10/dist-packages (from ultralytics) (4.65.0)\n",
            "Requirement already satisfied: pandas>=1.1.4 in /usr/local/lib/python3.10/dist-packages (from ultralytics) (1.5.3)\n",
            "Requirement already satisfied: seaborn>=0.11.0 in /usr/local/lib/python3.10/dist-packages (from ultralytics) (0.12.2)\n",
            "Requirement already satisfied: psutil in /usr/local/lib/python3.10/dist-packages (from ultralytics) (5.9.5)\n",
            "Requirement already satisfied: contourpy>=1.0.1 in /usr/local/lib/python3.10/dist-packages (from matplotlib>=3.2.2->ultralytics) (1.0.7)\n",
            "Requirement already satisfied: cycler>=0.10 in /usr/local/lib/python3.10/dist-packages (from matplotlib>=3.2.2->ultralytics) (0.11.0)\n",
            "Requirement already satisfied: fonttools>=4.22.0 in /usr/local/lib/python3.10/dist-packages (from matplotlib>=3.2.2->ultralytics) (4.39.3)\n",
            "Requirement already satisfied: kiwisolver>=1.0.1 in /usr/local/lib/python3.10/dist-packages (from matplotlib>=3.2.2->ultralytics) (1.4.4)\n",
            "Requirement already satisfied: numpy>=1.20 in /usr/local/lib/python3.10/dist-packages (from matplotlib>=3.2.2->ultralytics) (1.22.4)\n",
            "Requirement already satisfied: packaging>=20.0 in /usr/local/lib/python3.10/dist-packages (from matplotlib>=3.2.2->ultralytics) (23.1)\n",
            "Requirement already satisfied: pyparsing>=2.3.1 in /usr/local/lib/python3.10/dist-packages (from matplotlib>=3.2.2->ultralytics) (3.0.9)\n",
            "Requirement already satisfied: python-dateutil>=2.7 in /usr/local/lib/python3.10/dist-packages (from matplotlib>=3.2.2->ultralytics) (2.8.2)\n",
            "Requirement already satisfied: pytz>=2020.1 in /usr/local/lib/python3.10/dist-packages (from pandas>=1.1.4->ultralytics) (2022.7.1)\n",
            "Requirement already satisfied: urllib3<1.27,>=1.21.1 in /usr/local/lib/python3.10/dist-packages (from requests>=2.23.0->ultralytics) (1.26.15)\n",
            "Requirement already satisfied: certifi>=2017.4.17 in /usr/local/lib/python3.10/dist-packages (from requests>=2.23.0->ultralytics) (2022.12.7)\n",
            "Requirement already satisfied: charset-normalizer~=2.0.0 in /usr/local/lib/python3.10/dist-packages (from requests>=2.23.0->ultralytics) (2.0.12)\n",
            "Requirement already satisfied: idna<4,>=2.5 in /usr/local/lib/python3.10/dist-packages (from requests>=2.23.0->ultralytics) (3.4)\n",
            "Requirement already satisfied: filelock in /usr/local/lib/python3.10/dist-packages (from torch>=1.7.0->ultralytics) (3.12.0)\n",
            "Requirement already satisfied: typing-extensions in /usr/local/lib/python3.10/dist-packages (from torch>=1.7.0->ultralytics) (4.5.0)\n",
            "Requirement already satisfied: sympy in /usr/local/lib/python3.10/dist-packages (from torch>=1.7.0->ultralytics) (1.11.1)\n",
            "Requirement already satisfied: networkx in /usr/local/lib/python3.10/dist-packages (from torch>=1.7.0->ultralytics) (3.1)\n",
            "Requirement already satisfied: jinja2 in /usr/local/lib/python3.10/dist-packages (from torch>=1.7.0->ultralytics) (3.1.2)\n",
            "Requirement already satisfied: triton==2.0.0 in /usr/local/lib/python3.10/dist-packages (from torch>=1.7.0->ultralytics) (2.0.0)\n",
            "Requirement already satisfied: cmake in /usr/local/lib/python3.10/dist-packages (from triton==2.0.0->torch>=1.7.0->ultralytics) (3.25.2)\n",
            "Requirement already satisfied: lit in /usr/local/lib/python3.10/dist-packages (from triton==2.0.0->torch>=1.7.0->ultralytics) (16.0.5)\n",
            "Requirement already satisfied: six>=1.5 in /usr/local/lib/python3.10/dist-packages (from python-dateutil>=2.7->matplotlib>=3.2.2->ultralytics) (1.16.0)\n",
            "Requirement already satisfied: MarkupSafe>=2.0 in /usr/local/lib/python3.10/dist-packages (from jinja2->torch>=1.7.0->ultralytics) (2.1.2)\n",
            "Requirement already satisfied: mpmath>=0.19 in /usr/local/lib/python3.10/dist-packages (from sympy->torch>=1.7.0->ultralytics) (1.3.0)\n",
            "Installing collected packages: ultralytics\n",
            "Successfully installed ultralytics-8.0.118\n",
            "Looking in indexes: https://pypi.org/simple, https://us-python.pkg.dev/colab-wheels/public/simple/\n",
            "Requirement already satisfied: scikit-learn in /usr/local/lib/python3.10/dist-packages (1.2.2)\n",
            "Requirement already satisfied: numpy>=1.17.3 in /usr/local/lib/python3.10/dist-packages (from scikit-learn) (1.22.4)\n",
            "Requirement already satisfied: scipy>=1.3.2 in /usr/local/lib/python3.10/dist-packages (from scikit-learn) (1.10.1)\n",
            "Requirement already satisfied: joblib>=1.1.1 in /usr/local/lib/python3.10/dist-packages (from scikit-learn) (1.2.0)\n",
            "Requirement already satisfied: threadpoolctl>=2.0.0 in /usr/local/lib/python3.10/dist-packages (from scikit-learn) (3.1.0)\n"
          ]
        }
      ],
      "source": [
        "%pip install ultralytics\n",
        "%pip install scikit-learn"
      ]
    },
    {
      "cell_type": "code",
      "execution_count": null,
      "metadata": {
        "id": "-clTxZNsC1gk"
      },
      "outputs": [],
      "source": [
        "import os\n",
        "os.environ[\"WANDB_DISABLED\"] = \"true\"\n",
        "\n",
        "import pandas as pd\n",
        "import numpy as np\n",
        "import cv2\n",
        "import shutil\n",
        "import yaml\n",
        "import warnings\n",
        "warnings.filterwarnings(\"ignore\")\n",
        "\n",
        "from ultralytics import YOLO\n",
        "from glob import glob\n",
        "from tqdm import tqdm\n",
        "from IPython.display import clear_output\n",
        "from sklearn.model_selection import train_test_split"
      ]
    },
    {
      "cell_type": "code",
      "execution_count": null,
      "metadata": {
        "colab": {
          "base_uri": "https://localhost:8080/"
        },
        "id": "uonco4b3JyJu",
        "outputId": "02947bf1-1943-462a-db7f-017999f86b22"
      },
      "outputs": [
        {
          "output_type": "stream",
          "name": "stdout",
          "text": [
            "Mounted at /content/drive\n"
          ]
        }
      ],
      "source": [
        "from google.colab import drive\n",
        "drive.mount('/content/drive')"
      ]
    },
    {
      "cell_type": "code",
      "execution_count": null,
      "metadata": {
        "id": "-CuWH5cSC1gl"
      },
      "outputs": [],
      "source": [
        "# 파라미터 바꿀 때마다 MODEL 바꿔주기\n",
        "SEED = 42\n",
        "BATCH_SIZE = 7\n",
        "MODEL = \"v4\""
      ]
    },
    {
      "cell_type": "code",
      "execution_count": null,
      "metadata": {
        "id": "RnIvL6_LC1gm"
      },
      "outputs": [],
      "source": [
        "# def make_yolo_dataset(image_paths, txt_paths, type=\"train\"):\n",
        "#     for image_path, txt_path in tqdm(zip(image_paths, txt_paths if not type == \"test\" else image_paths), total=len(image_paths)):\n",
        "#         source_image = cv2.imread(image_path, cv2.IMREAD_COLOR)\n",
        "#         image_height, image_width, _ = source_image.shape\n",
        "\n",
        "#         target_image_path = f\"/content/drive/MyDrive/project/yolo/{type}/{os.path.basename(image_path)}\"\n",
        "#         cv2.imwrite(target_image_path, source_image)\n",
        "\n",
        "#         if type == \"test\":\n",
        "#             continue\n",
        "\n",
        "#         with open(txt_path, \"r\") as reader:\n",
        "#             yolo_labels = []\n",
        "#             for line in reader.readlines():\n",
        "#                 line = list(map(float, line.strip().split(\" \")))\n",
        "#                 class_name = int(line[0])\n",
        "#                 x_min, y_min = float(min(line[5], line[7])), float(min(line[6], line[8]))\n",
        "#                 x_max, y_max = float(max(line[1], line[3])), float(max(line[2], line[4]))\n",
        "#                 x, y = float(((x_min + x_max) / 2) / image_width), float(((y_min + y_max) / 2) / image_height)\n",
        "#                 w, h = abs(x_max - x_min) / image_width, abs(y_max - y_min) / image_height\n",
        "#                 yolo_labels.append(f\"{class_name} {x} {y} {w} {h}\")\n",
        "\n",
        "#         target_label_txt = f\"/content/drive/MyDrive/project/yolo/{type}/{os.path.basename(txt_path)}\"\n",
        "#         with open(target_label_txt, \"w\") as writer:\n",
        "#             for yolo_label in yolo_labels:\n",
        "#                 writer.write(f\"{yolo_label}\\n\")"
      ]
    },
    {
      "cell_type": "code",
      "execution_count": null,
      "metadata": {
        "id": "VI7y4XHZgglX"
      },
      "outputs": [],
      "source": [
        "# image_paths = sorted(glob(\"/content/drive/MyDrive/project/train/*.png\"))\n",
        "# txt_paths = sorted(glob(\"/content/drive/MyDrive/project/train/*.txt\"))\n",
        "\n",
        "# ## 검증 데이터셋 10%로 해뒀음\n",
        "# train_images_paths, valid_images_paths, train_txt_paths, valid_txt_paths = train_test_split(image_paths, txt_paths, test_size=0.1, random_state=SEED)\n",
        "\n",
        "# make_yolo_dataset(train_images_paths, train_txt_paths, \"train\")\n",
        "# make_yolo_dataset(valid_images_paths, valid_txt_paths, \"valid\")\n",
        "# make_yolo_dataset(sorted(glob(\"/content/drive/MyDrive/project/test/*.png\")), None, \"test\")"
      ]
    },
    {
      "cell_type": "code",
      "execution_count": null,
      "metadata": {
        "id": "Mk1cqfLeC1go"
      },
      "outputs": [],
      "source": [
        "# with open(\"/content/drive/MyDrive/project/classes.txt\", \"r\") as reader:\n",
        "#     lines = reader.readlines()\n",
        "#     classes = [line.strip().split(\",\")[1] for line in lines]\n",
        "\n",
        "# yaml_data = {\n",
        "#               \"names\": classes,\n",
        "#               \"nc\": len(classes),\n",
        "#               \"path\": \"/content/drive/MyDrive/project/yolo/\",\n",
        "#               \"train\": \"train\",\n",
        "#               \"val\": \"valid\",\n",
        "#               \"test\": \"test\"\n",
        "#             }\n",
        "\n",
        "# with open(\"/content/drive/MyDrive/project/yolo/custom.yaml\", \"w\") as writer:\n",
        "#     yaml.dump(yaml_data, writer)"
      ]
    },
    {
      "cell_type": "code",
      "execution_count": null,
      "metadata": {
        "id": "A5b_0kaTCHHy"
      },
      "outputs": [],
      "source": [
        "# model = YOLO(f\"/content/drive/MyDrive/project/{MODEL}/train/weights/last.pt\")\n",
        "# # model = YOLO(\"yolov8x\")\n",
        "\n",
        "# results = model.train(\n",
        "#     data=\"/content/drive/MyDrive/project/yolo/custom.yaml\",\n",
        "#     imgsz=(1024, 1024),\n",
        "#     epochs=200,\n",
        "#     batch=BATCH_SIZE,\n",
        "#     patience=5,\n",
        "#     workers=16,\n",
        "#     device=0,\n",
        "#     exist_ok=True,\n",
        "#     project=f\"/content/drive/MyDrive/project/{MODEL}\",\n",
        "#     name=\"train\",\n",
        "#     seed=SEED,\n",
        "#     pretrained=False,\n",
        "#     resume=True,\n",
        "#     optimizer=\"Adam\",\n",
        "#     lr0=1e-3,\n",
        "#     augment=False,\n",
        "#     val=True,\n",
        "#     cache=True\n",
        "#     )"
      ]
    },
    {
      "cell_type": "code",
      "execution_count": null,
      "metadata": {
        "colab": {
          "base_uri": "https://localhost:8080/"
        },
        "id": "ofQIyY8NxXZw",
        "outputId": "265b2552-4d2a-49fb-92fa-b5016c8b974e"
      },
      "outputs": [
        {
          "output_type": "stream",
          "name": "stderr",
          "text": [
            "Ultralytics YOLOv8.0.118 🚀 Python-3.10.12 torch-2.0.1+cu118 CUDA:0 (Tesla T4, 15102MiB)\n",
            "\u001b[34m\u001b[1myolo/engine/trainer: \u001b[0mtask=detect, mode=train, model=/content/drive/MyDrive/project/v4/train/weights/last.pt, data=/content/drive/MyDrive/project/yolo/custom.yaml, epochs=200, patience=5, batch=7, imgsz=1024, save=True, save_period=-1, cache=True, device=0, workers=16, project=/content/drive/MyDrive/project/v4, name=train, exist_ok=True, pretrained=True, optimizer=Adam, verbose=True, seed=42, deterministic=True, single_cls=False, rect=False, cos_lr=False, close_mosaic=0, resume=False, amp=True, fraction=1.0, profile=False, overlap_mask=True, mask_ratio=4, dropout=0.0, val=True, split=val, save_json=False, save_hybrid=False, conf=None, iou=0.7, max_det=300, half=False, dnn=False, plots=True, source=None, show=False, save_txt=False, save_conf=False, save_crop=False, show_labels=True, show_conf=True, vid_stride=1, line_width=None, visualize=False, augment=False, agnostic_nms=False, classes=None, retina_masks=False, boxes=True, format=torchscript, keras=False, optimize=False, int8=False, dynamic=False, simplify=False, opset=None, workspace=4, nms=False, lr0=0.001, lrf=0.01, momentum=0.937, weight_decay=0.0005, warmup_epochs=3.0, warmup_momentum=0.8, warmup_bias_lr=0.1, box=7.5, cls=0.5, dfl=1.5, pose=12.0, kobj=1.0, label_smoothing=0.0, nbs=64, hsv_h=0.015, hsv_s=0.7, hsv_v=0.4, degrees=0.0, translate=0.1, scale=0.5, shear=0.0, perspective=0.0, flipud=0.0, fliplr=0.5, mosaic=1.0, mixup=0.0, copy_paste=0.0, cfg=None, v5loader=False, tracker=botsort.yaml, save_dir=/content/drive/MyDrive/project/v4/train\n",
            "Downloading https://ultralytics.com/assets/Arial.ttf to /root/.config/Ultralytics/Arial.ttf...\n",
            "100%|██████████| 755k/755k [00:00<00:00, 14.8MB/s]\n",
            "\u001b[34m\u001b[1mTensorBoard: \u001b[0mStart with 'tensorboard --logdir /content/drive/MyDrive/project/v4/train', view at http://localhost:6006/\n",
            "\n",
            "                   from  n    params  module                                       arguments                     \n",
            "  0                  -1  1      2320  ultralytics.nn.modules.conv.Conv             [3, 80, 3, 2]                 \n",
            "  1                  -1  1    115520  ultralytics.nn.modules.conv.Conv             [80, 160, 3, 2]               \n",
            "  2                  -1  3    436800  ultralytics.nn.modules.block.C2f             [160, 160, 3, True]           \n",
            "  3                  -1  1    461440  ultralytics.nn.modules.conv.Conv             [160, 320, 3, 2]              \n",
            "  4                  -1  6   3281920  ultralytics.nn.modules.block.C2f             [320, 320, 6, True]           \n",
            "  5                  -1  1   1844480  ultralytics.nn.modules.conv.Conv             [320, 640, 3, 2]              \n",
            "  6                  -1  6  13117440  ultralytics.nn.modules.block.C2f             [640, 640, 6, True]           \n",
            "  7                  -1  1   3687680  ultralytics.nn.modules.conv.Conv             [640, 640, 3, 2]              \n",
            "  8                  -1  3   6969600  ultralytics.nn.modules.block.C2f             [640, 640, 3, True]           \n",
            "  9                  -1  1   1025920  ultralytics.nn.modules.block.SPPF            [640, 640, 5]                 \n",
            " 10                  -1  1         0  torch.nn.modules.upsampling.Upsample         [None, 2, 'nearest']          \n",
            " 11             [-1, 6]  1         0  ultralytics.nn.modules.conv.Concat           [1]                           \n",
            " 12                  -1  3   7379200  ultralytics.nn.modules.block.C2f             [1280, 640, 3]                \n",
            " 13                  -1  1         0  torch.nn.modules.upsampling.Upsample         [None, 2, 'nearest']          \n",
            " 14             [-1, 4]  1         0  ultralytics.nn.modules.conv.Concat           [1]                           \n",
            " 15                  -1  3   1948800  ultralytics.nn.modules.block.C2f             [960, 320, 3]                 \n",
            " 16                  -1  1    922240  ultralytics.nn.modules.conv.Conv             [320, 320, 3, 2]              \n",
            " 17            [-1, 12]  1         0  ultralytics.nn.modules.conv.Concat           [1]                           \n",
            " 18                  -1  3   7174400  ultralytics.nn.modules.block.C2f             [960, 640, 3]                 \n",
            " 19                  -1  1   3687680  ultralytics.nn.modules.conv.Conv             [640, 640, 3, 2]              \n",
            " 20             [-1, 9]  1         0  ultralytics.nn.modules.conv.Concat           [1]                           \n",
            " 21                  -1  3   7379200  ultralytics.nn.modules.block.C2f             [1280, 640, 3]                \n",
            " 22        [15, 18, 21]  1   8750710  ultralytics.nn.modules.head.Detect           [34, [320, 640, 640]]         \n",
            "Model summary: 365 layers, 68185350 parameters, 68185334 gradients\n",
            "\n",
            "Transferred 595/595 items from pretrained weights\n",
            "\u001b[34m\u001b[1mAMP: \u001b[0mrunning Automatic Mixed Precision (AMP) checks with YOLOv8n...\n",
            "Downloading https://github.com/ultralytics/assets/releases/download/v0.0.0/yolov8n.pt to yolov8n.pt...\n",
            "100%|██████████| 6.23M/6.23M [00:00<00:00, 70.8MB/s]\n",
            "\u001b[34m\u001b[1mAMP: \u001b[0mchecks passed ✅\n",
            "\u001b[34m\u001b[1mtrain: \u001b[0mScanning /content/drive/MyDrive/project/yolo/train.cache... 5832 images, 0 backgrounds, 0 corrupt: 100%|██████████| 5832/5832 [00:00<?, ?it/s]\n",
            "\u001b[34m\u001b[1mtrain: \u001b[0mCaching images (9.3GB True): 100%|██████████| 5832/5832 [14:06<00:00,  6.89it/s]\n",
            "\u001b[34m\u001b[1malbumentations: \u001b[0mBlur(p=0.01, blur_limit=(3, 7)), MedianBlur(p=0.01, blur_limit=(3, 7)), ToGray(p=0.01), CLAHE(p=0.01, clip_limit=(1, 4.0), tile_grid_size=(8, 8))\n",
            "\u001b[34m\u001b[1mval: \u001b[0mScanning /content/drive/MyDrive/project/yolo/valid.cache... 649 images, 0 backgrounds, 0 corrupt: 100%|██████████| 649/649 [00:00<?, ?it/s]\n",
            "\u001b[34m\u001b[1mval: \u001b[0mCaching images (1.0GB True): 100%|██████████| 649/649 [01:20<00:00,  8.05it/s]\n",
            "Plotting labels to /content/drive/MyDrive/project/v4/train/labels.jpg... \n",
            "\u001b[34m\u001b[1moptimizer:\u001b[0m Adam(lr=0.001, momentum=0.937) with parameter groups 97 weight(decay=0.0), 104 weight(decay=0.0004921875), 103 bias(decay=0.0)\n",
            "Resuming training from /content/drive/MyDrive/project/v4/train/weights/last.pt from epoch 94 to 200 total epochs\n",
            "Image sizes 1024 train, 1024 val\n",
            "Using 4 dataloader workers\n",
            "Logging results to \u001b[1m/content/drive/MyDrive/project/v4/train\u001b[0m\n",
            "Starting training for 200 epochs...\n",
            "\n",
            "      Epoch    GPU_mem   box_loss   cls_loss   dfl_loss  Instances       Size\n",
            "     94/200        14G    0.09886     0.1056     0.7844          2       1024: 100%|██████████| 834/834 [17:22<00:00,  1.25s/it]\n",
            "                 Class     Images  Instances      Box(P          R      mAP50  mAP50-95): 100%|██████████| 47/47 [00:27<00:00,  1.70it/s]\n",
            "                   all        649       1709          1          1      0.995      0.995\n",
            "\n",
            "      Epoch    GPU_mem   box_loss   cls_loss   dfl_loss  Instances       Size\n",
            "     95/200      14.3G     0.1027     0.1146     0.7871         10       1024: 100%|██████████| 834/834 [17:19<00:00,  1.25s/it]\n",
            "                 Class     Images  Instances      Box(P          R      mAP50  mAP50-95): 100%|██████████| 47/47 [00:26<00:00,  1.78it/s]\n",
            "                   all        649       1709          1          1      0.995      0.995\n",
            "\n",
            "      Epoch    GPU_mem   box_loss   cls_loss   dfl_loss  Instances       Size\n",
            "     96/200      14.2G     0.1015     0.1163     0.7857         31       1024:  91%|█████████ | 761/834 [15:46<01:30,  1.24s/it]"
          ]
        }
      ],
      "source": [
        "model = YOLO(f\"/content/drive/MyDrive/project/{MODEL}/train/weights/last.pt\")\n",
        "# model = YOLO(\"yolov8x\")\n",
        "\n",
        "results = model.train(\n",
        "    data=\"/content/drive/MyDrive/project/yolo/custom.yaml\",\n",
        "    imgsz=(1024, 1024),\n",
        "    epochs=200,\n",
        "    batch=BATCH_SIZE,\n",
        "    patience=5,\n",
        "    workers=16,\n",
        "    device=0,\n",
        "    exist_ok=True,\n",
        "    project=f\"/content/drive/MyDrive/project/{MODEL}\",\n",
        "    name=\"train\",\n",
        "    seed=SEED,\n",
        "    pretrained=True,\n",
        "    resume=True,\n",
        "    optimizer=\"Adam\",\n",
        "    lr0=1e-3,\n",
        "    augment=False,\n",
        "    val=True,\n",
        "    cache=True\n",
        "    )"
      ]
    },
    {
      "cell_type": "code",
      "execution_count": null,
      "metadata": {
        "id": "Jt8sn90zC1gr"
      },
      "outputs": [],
      "source": [
        "def get_test_image_paths(test_image_paths):\n",
        "    for i in range(0, len(test_image_paths), BATCH_SIZE):\n",
        "        yield test_image_paths[i:i+BATCH_SIZE]"
      ]
    },
    {
      "cell_type": "code",
      "execution_count": null,
      "metadata": {
        "colab": {
          "base_uri": "https://localhost:8080/"
        },
        "id": "MoroeS2JC1gr",
        "outputId": "2e0c33aa-776a-4724-9f14-55c232bc8230"
      },
      "outputs": [
        {
          "output_type": "stream",
          "name": "stderr",
          "text": [
            "486it [23:24,  2.89s/it]\n"
          ]
        }
      ],
      "source": [
        "# test data에 대해 예측\n",
        "model = YOLO(f\"/content/drive/MyDrive/project/{MODEL}/train/weights/best.pt\")\n",
        "test_image_paths = glob(\"/content/drive/MyDrive/project/yolo/test/*.png\")\n",
        "for i, image in tqdm(enumerate(get_test_image_paths(test_image_paths)), total=int(len(test_image_paths)/BATCH_SIZE)):\n",
        "    model.predict(image, imgsz=(1024, 1024), iou=0.2, conf=0.5, save_conf=True, save=False, save_txt=True, project=f\"/content/drive/MyDrive/project/{MODEL}\", name=\"predict\",\n",
        "                  exist_ok=True, device=0, augment=True, verbose=False)\n",
        "    if i % 5 == 0:\n",
        "        clear_output(wait=True)"
      ]
    },
    {
      "cell_type": "code",
      "execution_count": null,
      "metadata": {
        "id": "slrvS3rmC1gs"
      },
      "outputs": [],
      "source": [
        "def yolo_to_labelme(line, image_width, image_height, txt_file_name):\n",
        "    file_name = txt_file_name.split(\"/\")[-1].replace(\".txt\", \".png\")\n",
        "    class_id, x, y, width, height, confidence = [float(temp) for temp in line.split()]\n",
        "\n",
        "    x_min = int((x - width / 2) * image_width)\n",
        "    x_max = int((x + width / 2) * image_width)\n",
        "    y_min = int((y - height / 2) * image_height)\n",
        "    y_max = int((y + height / 2) * image_height)\n",
        "\n",
        "    return file_name, int(class_id), confidence, x_min, y_min, x_max, y_min, x_max, y_max, x_min, y_max"
      ]
    },
    {
      "cell_type": "code",
      "execution_count": null,
      "metadata": {
        "colab": {
          "base_uri": "https://localhost:8080/"
        },
        "id": "XwUCPK6k_Ri7",
        "outputId": "08fa2b29-dc6e-48d3-e0bb-c07411a4996c"
      },
      "outputs": [
        {
          "output_type": "execute_result",
          "data": {
            "text/plain": [
              "3385"
            ]
          },
          "metadata": {},
          "execution_count": 19
        }
      ],
      "source": [
        "infer_txts = glob(f\"/content/drive/MyDrive/project/{MODEL}/predict/labels/*.txt\")\n",
        "len(infer_txts)"
      ]
    },
    {
      "cell_type": "code",
      "execution_count": null,
      "metadata": {
        "colab": {
          "base_uri": "https://localhost:8080/"
        },
        "id": "DCQQWZOFC1gs",
        "outputId": "44ac15eb-1a42-41fa-f95c-58c1db2420fd"
      },
      "outputs": [
        {
          "output_type": "stream",
          "name": "stderr",
          "text": [
            "100%|██████████| 3385/3385 [1:00:47<00:00,  1.08s/it]\n"
          ]
        }
      ],
      "source": [
        "# 예측된 txt파일들을 csv파일로 합쳐주기\n",
        "infer_txts = glob(f\"/content/drive/MyDrive/project/{MODEL}/predict/labels/*.txt\")\n",
        "\n",
        "results = []\n",
        "for infer_txt in tqdm(infer_txts):\n",
        "    base_file_name = infer_txt.split(\"/\")[-1].split(\".\")[0]\n",
        "    imgage_height, imgage_width = cv2.imread(f\"/content/drive/MyDrive/project/test/{base_file_name}.png\").shape[:2]\n",
        "    with open(infer_txt, \"r\") as reader:\n",
        "        lines = reader.readlines()\n",
        "        for line in lines:\n",
        "            results.append(yolo_to_labelme(line, imgage_width, imgage_height, infer_txt))\n",
        "\n",
        "df_submission = pd.DataFrame(data=results, columns=[\"file_name\", \"class_id\", \"confidence\", \"point1_x\", \"point1_y\", \"point2_x\", \"point2_y\", \"point3_x\", \"point3_y\", \"point4_x\", \"point4_y\"])\n",
        "df_submission.to_csv(f\"/content/drive/MyDrive/project/{MODEL}/submit.csv\", index=False)"
      ]
    }
  ],
  "metadata": {
    "accelerator": "GPU",
    "colab": {
      "machine_shape": "hm",
      "provenance": [],
      "gpuType": "T4",
      "include_colab_link": true
    },
    "kernelspec": {
      "display_name": "Python 3",
      "name": "python3"
    },
    "language_info": {
      "codemirror_mode": {
        "name": "ipython",
        "version": 3
      },
      "file_extension": ".py",
      "mimetype": "text/x-python",
      "name": "python",
      "nbconvert_exporter": "python",
      "pygments_lexer": "ipython3",
      "version": "3.10.11"
    }
  },
  "nbformat": 4,
  "nbformat_minor": 0
}